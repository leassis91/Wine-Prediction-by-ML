{
 "cells": [
  {
   "cell_type": "code",
   "execution_count": 1,
   "id": "0527abd4",
   "metadata": {
    "_cell_guid": "b1076dfc-b9ad-4769-8c92-a6c4dae69d19",
    "_uuid": "8f2839f25d086af736a60e9eeb907d3b93b6e0e5",
    "execution": {
     "iopub.execute_input": "2022-01-10T17:36:44.858438Z",
     "iopub.status.busy": "2022-01-10T17:36:44.856540Z",
     "iopub.status.idle": "2022-01-10T17:36:44.869860Z",
     "shell.execute_reply": "2022-01-10T17:36:44.870375Z",
     "shell.execute_reply.started": "2022-01-10T17:12:38.747928Z"
    },
    "papermill": {
     "duration": 0.037036,
     "end_time": "2022-01-10T17:36:44.870662",
     "exception": false,
     "start_time": "2022-01-10T17:36:44.833626",
     "status": "completed"
    },
    "tags": []
   },
   "outputs": [
    {
     "name": "stdout",
     "output_type": "stream",
     "text": [
      "/kaggle/input/wine-dataset/wine_dataset.csv\n"
     ]
    }
   ],
   "source": [
    "# This Python 3 environment comes with many helpful analytics libraries installed\n",
    "# It is defined by the kaggle/python Docker image: https://github.com/kaggle/docker-python\n",
    "# For example, here's several helpful packages to load\n",
    "\n",
    "import numpy as np # linear algebra\n",
    "import pandas as pd # data processing, CSV file I/O (e.g. pd.read_csv)\n",
    "\n",
    "# Input data files are available in the read-only \"../input/\" directory\n",
    "# For example, running this (by clicking run or pressing Shift+Enter) will list all files under the input directory\n",
    "\n",
    "import os\n",
    "for dirname, _, filenames in os.walk('/kaggle/input'):\n",
    "    for filename in filenames:\n",
    "        print(os.path.join(dirname, filename))\n",
    "\n",
    "# You can write up to 20GB to the current directory (/kaggle/working/) that gets preserved as output when you create a version using \"Save & Run All\" \n",
    "# You can also write temporary files to /kaggle/temp/, but they won't be saved outside of the current session"
   ]
  },
  {
   "cell_type": "code",
   "execution_count": 2,
   "id": "cd61c4f4",
   "metadata": {
    "execution": {
     "iopub.execute_input": "2022-01-10T17:36:44.899306Z",
     "iopub.status.busy": "2022-01-10T17:36:44.898608Z",
     "iopub.status.idle": "2022-01-10T17:36:44.924590Z",
     "shell.execute_reply": "2022-01-10T17:36:44.923829Z",
     "shell.execute_reply.started": "2022-01-10T17:13:06.577427Z"
    },
    "papermill": {
     "duration": 0.042142,
     "end_time": "2022-01-10T17:36:44.924779",
     "exception": false,
     "start_time": "2022-01-10T17:36:44.882637",
     "status": "completed"
    },
    "tags": []
   },
   "outputs": [],
   "source": [
    "arquivo = pd.read_csv('/kaggle/input/wine-dataset/wine_dataset.csv')"
   ]
  },
  {
   "cell_type": "code",
   "execution_count": 3,
   "id": "cfa4c2d8",
   "metadata": {
    "execution": {
     "iopub.execute_input": "2022-01-10T17:36:44.952300Z",
     "iopub.status.busy": "2022-01-10T17:36:44.951650Z",
     "iopub.status.idle": "2022-01-10T17:36:44.981278Z",
     "shell.execute_reply": "2022-01-10T17:36:44.980461Z",
     "shell.execute_reply.started": "2022-01-10T17:13:12.163242Z"
    },
    "papermill": {
     "duration": 0.044339,
     "end_time": "2022-01-10T17:36:44.981447",
     "exception": false,
     "start_time": "2022-01-10T17:36:44.937108",
     "status": "completed"
    },
    "tags": []
   },
   "outputs": [
    {
     "data": {
      "text/html": [
       "<div>\n",
       "<style scoped>\n",
       "    .dataframe tbody tr th:only-of-type {\n",
       "        vertical-align: middle;\n",
       "    }\n",
       "\n",
       "    .dataframe tbody tr th {\n",
       "        vertical-align: top;\n",
       "    }\n",
       "\n",
       "    .dataframe thead th {\n",
       "        text-align: right;\n",
       "    }\n",
       "</style>\n",
       "<table border=\"1\" class=\"dataframe\">\n",
       "  <thead>\n",
       "    <tr style=\"text-align: right;\">\n",
       "      <th></th>\n",
       "      <th>fixed_acidity</th>\n",
       "      <th>volatile_acidity</th>\n",
       "      <th>citric_acid</th>\n",
       "      <th>residual_sugar</th>\n",
       "      <th>chlorides</th>\n",
       "      <th>free_sulfur_dioxide</th>\n",
       "      <th>total_sulfur_dioxide</th>\n",
       "      <th>density</th>\n",
       "      <th>pH</th>\n",
       "      <th>sulphates</th>\n",
       "      <th>alcohol</th>\n",
       "      <th>quality</th>\n",
       "      <th>style</th>\n",
       "    </tr>\n",
       "  </thead>\n",
       "  <tbody>\n",
       "    <tr>\n",
       "      <th>0</th>\n",
       "      <td>7.4</td>\n",
       "      <td>0.70</td>\n",
       "      <td>0.00</td>\n",
       "      <td>1.9</td>\n",
       "      <td>0.076</td>\n",
       "      <td>11.0</td>\n",
       "      <td>34.0</td>\n",
       "      <td>0.9978</td>\n",
       "      <td>3.51</td>\n",
       "      <td>0.56</td>\n",
       "      <td>9.4</td>\n",
       "      <td>5</td>\n",
       "      <td>red</td>\n",
       "    </tr>\n",
       "    <tr>\n",
       "      <th>1</th>\n",
       "      <td>7.8</td>\n",
       "      <td>0.88</td>\n",
       "      <td>0.00</td>\n",
       "      <td>2.6</td>\n",
       "      <td>0.098</td>\n",
       "      <td>25.0</td>\n",
       "      <td>67.0</td>\n",
       "      <td>0.9968</td>\n",
       "      <td>3.20</td>\n",
       "      <td>0.68</td>\n",
       "      <td>9.8</td>\n",
       "      <td>5</td>\n",
       "      <td>red</td>\n",
       "    </tr>\n",
       "    <tr>\n",
       "      <th>2</th>\n",
       "      <td>7.8</td>\n",
       "      <td>0.76</td>\n",
       "      <td>0.04</td>\n",
       "      <td>2.3</td>\n",
       "      <td>0.092</td>\n",
       "      <td>15.0</td>\n",
       "      <td>54.0</td>\n",
       "      <td>0.9970</td>\n",
       "      <td>3.26</td>\n",
       "      <td>0.65</td>\n",
       "      <td>9.8</td>\n",
       "      <td>5</td>\n",
       "      <td>red</td>\n",
       "    </tr>\n",
       "    <tr>\n",
       "      <th>3</th>\n",
       "      <td>11.2</td>\n",
       "      <td>0.28</td>\n",
       "      <td>0.56</td>\n",
       "      <td>1.9</td>\n",
       "      <td>0.075</td>\n",
       "      <td>17.0</td>\n",
       "      <td>60.0</td>\n",
       "      <td>0.9980</td>\n",
       "      <td>3.16</td>\n",
       "      <td>0.58</td>\n",
       "      <td>9.8</td>\n",
       "      <td>6</td>\n",
       "      <td>red</td>\n",
       "    </tr>\n",
       "    <tr>\n",
       "      <th>4</th>\n",
       "      <td>7.4</td>\n",
       "      <td>0.70</td>\n",
       "      <td>0.00</td>\n",
       "      <td>1.9</td>\n",
       "      <td>0.076</td>\n",
       "      <td>11.0</td>\n",
       "      <td>34.0</td>\n",
       "      <td>0.9978</td>\n",
       "      <td>3.51</td>\n",
       "      <td>0.56</td>\n",
       "      <td>9.4</td>\n",
       "      <td>5</td>\n",
       "      <td>red</td>\n",
       "    </tr>\n",
       "  </tbody>\n",
       "</table>\n",
       "</div>"
      ],
      "text/plain": [
       "   fixed_acidity  volatile_acidity  citric_acid  residual_sugar  chlorides  \\\n",
       "0            7.4              0.70         0.00             1.9      0.076   \n",
       "1            7.8              0.88         0.00             2.6      0.098   \n",
       "2            7.8              0.76         0.04             2.3      0.092   \n",
       "3           11.2              0.28         0.56             1.9      0.075   \n",
       "4            7.4              0.70         0.00             1.9      0.076   \n",
       "\n",
       "   free_sulfur_dioxide  total_sulfur_dioxide  density    pH  sulphates  \\\n",
       "0                 11.0                  34.0   0.9978  3.51       0.56   \n",
       "1                 25.0                  67.0   0.9968  3.20       0.68   \n",
       "2                 15.0                  54.0   0.9970  3.26       0.65   \n",
       "3                 17.0                  60.0   0.9980  3.16       0.58   \n",
       "4                 11.0                  34.0   0.9978  3.51       0.56   \n",
       "\n",
       "   alcohol  quality style  \n",
       "0      9.4        5   red  \n",
       "1      9.8        5   red  \n",
       "2      9.8        5   red  \n",
       "3      9.8        6   red  \n",
       "4      9.4        5   red  "
      ]
     },
     "execution_count": 3,
     "metadata": {},
     "output_type": "execute_result"
    }
   ],
   "source": [
    "arquivo.head()"
   ]
  },
  {
   "cell_type": "markdown",
   "id": "1af21c83",
   "metadata": {
    "papermill": {
     "duration": 0.011539,
     "end_time": "2022-01-10T17:36:45.005813",
     "exception": false,
     "start_time": "2022-01-10T17:36:44.994274",
     "status": "completed"
    },
    "tags": []
   },
   "source": [
    "Nossa variável 'target', isto é, a variável que desejamos prever, é a coluna _style_, que identifica se o vinho é tinto (red) ou branco (white). Iremos substituir esses valores por 0 e 1."
   ]
  },
  {
   "cell_type": "code",
   "execution_count": 4,
   "id": "bd900610",
   "metadata": {
    "execution": {
     "iopub.execute_input": "2022-01-10T17:36:45.033029Z",
     "iopub.status.busy": "2022-01-10T17:36:45.032438Z",
     "iopub.status.idle": "2022-01-10T17:36:45.044428Z",
     "shell.execute_reply": "2022-01-10T17:36:45.043814Z",
     "shell.execute_reply.started": "2022-01-10T17:16:26.598153Z"
    },
    "papermill": {
     "duration": 0.026568,
     "end_time": "2022-01-10T17:36:45.044572",
     "exception": false,
     "start_time": "2022-01-10T17:36:45.018004",
     "status": "completed"
    },
    "tags": []
   },
   "outputs": [],
   "source": [
    "arquivo['style'] = arquivo['style'].replace('red', 0)\n",
    "arquivo['style'] = arquivo['style'].replace('white', 1)"
   ]
  },
  {
   "cell_type": "markdown",
   "id": "6a6639e3",
   "metadata": {
    "papermill": {
     "duration": 0.012258,
     "end_time": "2022-01-10T17:36:45.068885",
     "exception": false,
     "start_time": "2022-01-10T17:36:45.056627",
     "status": "completed"
    },
    "tags": []
   },
   "source": [
    "Verificando o código acima:"
   ]
  },
  {
   "cell_type": "code",
   "execution_count": 5,
   "id": "82fe8b47",
   "metadata": {
    "execution": {
     "iopub.execute_input": "2022-01-10T17:36:45.101151Z",
     "iopub.status.busy": "2022-01-10T17:36:45.100414Z",
     "iopub.status.idle": "2022-01-10T17:36:45.124419Z",
     "shell.execute_reply": "2022-01-10T17:36:45.124935Z",
     "shell.execute_reply.started": "2022-01-10T17:16:44.359976Z"
    },
    "papermill": {
     "duration": 0.041352,
     "end_time": "2022-01-10T17:36:45.125148",
     "exception": false,
     "start_time": "2022-01-10T17:36:45.083796",
     "status": "completed"
    },
    "tags": []
   },
   "outputs": [
    {
     "data": {
      "text/html": [
       "<div>\n",
       "<style scoped>\n",
       "    .dataframe tbody tr th:only-of-type {\n",
       "        vertical-align: middle;\n",
       "    }\n",
       "\n",
       "    .dataframe tbody tr th {\n",
       "        vertical-align: top;\n",
       "    }\n",
       "\n",
       "    .dataframe thead th {\n",
       "        text-align: right;\n",
       "    }\n",
       "</style>\n",
       "<table border=\"1\" class=\"dataframe\">\n",
       "  <thead>\n",
       "    <tr style=\"text-align: right;\">\n",
       "      <th></th>\n",
       "      <th>fixed_acidity</th>\n",
       "      <th>volatile_acidity</th>\n",
       "      <th>citric_acid</th>\n",
       "      <th>residual_sugar</th>\n",
       "      <th>chlorides</th>\n",
       "      <th>free_sulfur_dioxide</th>\n",
       "      <th>total_sulfur_dioxide</th>\n",
       "      <th>density</th>\n",
       "      <th>pH</th>\n",
       "      <th>sulphates</th>\n",
       "      <th>alcohol</th>\n",
       "      <th>quality</th>\n",
       "      <th>style</th>\n",
       "    </tr>\n",
       "  </thead>\n",
       "  <tbody>\n",
       "    <tr>\n",
       "      <th>0</th>\n",
       "      <td>7.4</td>\n",
       "      <td>0.70</td>\n",
       "      <td>0.00</td>\n",
       "      <td>1.9</td>\n",
       "      <td>0.076</td>\n",
       "      <td>11.0</td>\n",
       "      <td>34.0</td>\n",
       "      <td>0.99780</td>\n",
       "      <td>3.51</td>\n",
       "      <td>0.56</td>\n",
       "      <td>9.4</td>\n",
       "      <td>5</td>\n",
       "      <td>0</td>\n",
       "    </tr>\n",
       "    <tr>\n",
       "      <th>1</th>\n",
       "      <td>7.8</td>\n",
       "      <td>0.88</td>\n",
       "      <td>0.00</td>\n",
       "      <td>2.6</td>\n",
       "      <td>0.098</td>\n",
       "      <td>25.0</td>\n",
       "      <td>67.0</td>\n",
       "      <td>0.99680</td>\n",
       "      <td>3.20</td>\n",
       "      <td>0.68</td>\n",
       "      <td>9.8</td>\n",
       "      <td>5</td>\n",
       "      <td>0</td>\n",
       "    </tr>\n",
       "    <tr>\n",
       "      <th>2</th>\n",
       "      <td>7.8</td>\n",
       "      <td>0.76</td>\n",
       "      <td>0.04</td>\n",
       "      <td>2.3</td>\n",
       "      <td>0.092</td>\n",
       "      <td>15.0</td>\n",
       "      <td>54.0</td>\n",
       "      <td>0.99700</td>\n",
       "      <td>3.26</td>\n",
       "      <td>0.65</td>\n",
       "      <td>9.8</td>\n",
       "      <td>5</td>\n",
       "      <td>0</td>\n",
       "    </tr>\n",
       "    <tr>\n",
       "      <th>3</th>\n",
       "      <td>11.2</td>\n",
       "      <td>0.28</td>\n",
       "      <td>0.56</td>\n",
       "      <td>1.9</td>\n",
       "      <td>0.075</td>\n",
       "      <td>17.0</td>\n",
       "      <td>60.0</td>\n",
       "      <td>0.99800</td>\n",
       "      <td>3.16</td>\n",
       "      <td>0.58</td>\n",
       "      <td>9.8</td>\n",
       "      <td>6</td>\n",
       "      <td>0</td>\n",
       "    </tr>\n",
       "    <tr>\n",
       "      <th>4</th>\n",
       "      <td>7.4</td>\n",
       "      <td>0.70</td>\n",
       "      <td>0.00</td>\n",
       "      <td>1.9</td>\n",
       "      <td>0.076</td>\n",
       "      <td>11.0</td>\n",
       "      <td>34.0</td>\n",
       "      <td>0.99780</td>\n",
       "      <td>3.51</td>\n",
       "      <td>0.56</td>\n",
       "      <td>9.4</td>\n",
       "      <td>5</td>\n",
       "      <td>0</td>\n",
       "    </tr>\n",
       "    <tr>\n",
       "      <th>...</th>\n",
       "      <td>...</td>\n",
       "      <td>...</td>\n",
       "      <td>...</td>\n",
       "      <td>...</td>\n",
       "      <td>...</td>\n",
       "      <td>...</td>\n",
       "      <td>...</td>\n",
       "      <td>...</td>\n",
       "      <td>...</td>\n",
       "      <td>...</td>\n",
       "      <td>...</td>\n",
       "      <td>...</td>\n",
       "      <td>...</td>\n",
       "    </tr>\n",
       "    <tr>\n",
       "      <th>6492</th>\n",
       "      <td>6.2</td>\n",
       "      <td>0.21</td>\n",
       "      <td>0.29</td>\n",
       "      <td>1.6</td>\n",
       "      <td>0.039</td>\n",
       "      <td>24.0</td>\n",
       "      <td>92.0</td>\n",
       "      <td>0.99114</td>\n",
       "      <td>3.27</td>\n",
       "      <td>0.50</td>\n",
       "      <td>11.2</td>\n",
       "      <td>6</td>\n",
       "      <td>1</td>\n",
       "    </tr>\n",
       "    <tr>\n",
       "      <th>6493</th>\n",
       "      <td>6.6</td>\n",
       "      <td>0.32</td>\n",
       "      <td>0.36</td>\n",
       "      <td>8.0</td>\n",
       "      <td>0.047</td>\n",
       "      <td>57.0</td>\n",
       "      <td>168.0</td>\n",
       "      <td>0.99490</td>\n",
       "      <td>3.15</td>\n",
       "      <td>0.46</td>\n",
       "      <td>9.6</td>\n",
       "      <td>5</td>\n",
       "      <td>1</td>\n",
       "    </tr>\n",
       "    <tr>\n",
       "      <th>6494</th>\n",
       "      <td>6.5</td>\n",
       "      <td>0.24</td>\n",
       "      <td>0.19</td>\n",
       "      <td>1.2</td>\n",
       "      <td>0.041</td>\n",
       "      <td>30.0</td>\n",
       "      <td>111.0</td>\n",
       "      <td>0.99254</td>\n",
       "      <td>2.99</td>\n",
       "      <td>0.46</td>\n",
       "      <td>9.4</td>\n",
       "      <td>6</td>\n",
       "      <td>1</td>\n",
       "    </tr>\n",
       "    <tr>\n",
       "      <th>6495</th>\n",
       "      <td>5.5</td>\n",
       "      <td>0.29</td>\n",
       "      <td>0.30</td>\n",
       "      <td>1.1</td>\n",
       "      <td>0.022</td>\n",
       "      <td>20.0</td>\n",
       "      <td>110.0</td>\n",
       "      <td>0.98869</td>\n",
       "      <td>3.34</td>\n",
       "      <td>0.38</td>\n",
       "      <td>12.8</td>\n",
       "      <td>7</td>\n",
       "      <td>1</td>\n",
       "    </tr>\n",
       "    <tr>\n",
       "      <th>6496</th>\n",
       "      <td>6.0</td>\n",
       "      <td>0.21</td>\n",
       "      <td>0.38</td>\n",
       "      <td>0.8</td>\n",
       "      <td>0.020</td>\n",
       "      <td>22.0</td>\n",
       "      <td>98.0</td>\n",
       "      <td>0.98941</td>\n",
       "      <td>3.26</td>\n",
       "      <td>0.32</td>\n",
       "      <td>11.8</td>\n",
       "      <td>6</td>\n",
       "      <td>1</td>\n",
       "    </tr>\n",
       "  </tbody>\n",
       "</table>\n",
       "<p>6497 rows × 13 columns</p>\n",
       "</div>"
      ],
      "text/plain": [
       "      fixed_acidity  volatile_acidity  citric_acid  residual_sugar  chlorides  \\\n",
       "0               7.4              0.70         0.00             1.9      0.076   \n",
       "1               7.8              0.88         0.00             2.6      0.098   \n",
       "2               7.8              0.76         0.04             2.3      0.092   \n",
       "3              11.2              0.28         0.56             1.9      0.075   \n",
       "4               7.4              0.70         0.00             1.9      0.076   \n",
       "...             ...               ...          ...             ...        ...   \n",
       "6492            6.2              0.21         0.29             1.6      0.039   \n",
       "6493            6.6              0.32         0.36             8.0      0.047   \n",
       "6494            6.5              0.24         0.19             1.2      0.041   \n",
       "6495            5.5              0.29         0.30             1.1      0.022   \n",
       "6496            6.0              0.21         0.38             0.8      0.020   \n",
       "\n",
       "      free_sulfur_dioxide  total_sulfur_dioxide  density    pH  sulphates  \\\n",
       "0                    11.0                  34.0  0.99780  3.51       0.56   \n",
       "1                    25.0                  67.0  0.99680  3.20       0.68   \n",
       "2                    15.0                  54.0  0.99700  3.26       0.65   \n",
       "3                    17.0                  60.0  0.99800  3.16       0.58   \n",
       "4                    11.0                  34.0  0.99780  3.51       0.56   \n",
       "...                   ...                   ...      ...   ...        ...   \n",
       "6492                 24.0                  92.0  0.99114  3.27       0.50   \n",
       "6493                 57.0                 168.0  0.99490  3.15       0.46   \n",
       "6494                 30.0                 111.0  0.99254  2.99       0.46   \n",
       "6495                 20.0                 110.0  0.98869  3.34       0.38   \n",
       "6496                 22.0                  98.0  0.98941  3.26       0.32   \n",
       "\n",
       "      alcohol  quality  style  \n",
       "0         9.4        5      0  \n",
       "1         9.8        5      0  \n",
       "2         9.8        5      0  \n",
       "3         9.8        6      0  \n",
       "4         9.4        5      0  \n",
       "...       ...      ...    ...  \n",
       "6492     11.2        6      1  \n",
       "6493      9.6        5      1  \n",
       "6494      9.4        6      1  \n",
       "6495     12.8        7      1  \n",
       "6496     11.8        6      1  \n",
       "\n",
       "[6497 rows x 13 columns]"
      ]
     },
     "execution_count": 5,
     "metadata": {},
     "output_type": "execute_result"
    }
   ],
   "source": [
    "arquivo"
   ]
  },
  {
   "cell_type": "code",
   "execution_count": 6,
   "id": "3a83a1e5",
   "metadata": {
    "execution": {
     "iopub.execute_input": "2022-01-10T17:36:45.162599Z",
     "iopub.status.busy": "2022-01-10T17:36:45.157820Z",
     "iopub.status.idle": "2022-01-10T17:36:45.164363Z",
     "shell.execute_reply": "2022-01-10T17:36:45.164990Z",
     "shell.execute_reply.started": "2022-01-10T17:19:04.147236Z"
    },
    "papermill": {
     "duration": 0.026866,
     "end_time": "2022-01-10T17:36:45.165164",
     "exception": false,
     "start_time": "2022-01-10T17:36:45.138298",
     "status": "completed"
    },
    "tags": []
   },
   "outputs": [],
   "source": [
    "# Separando as variáveis entre preditoras e variável alvo\n",
    "y = arquivo['style'] # variável alvo\n",
    "x = arquivo.drop('style', axis = 1) #armazena todo o restante na variável x (variáveis preditoras)"
   ]
  },
  {
   "cell_type": "code",
   "execution_count": 7,
   "id": "5a8f40ae",
   "metadata": {
    "execution": {
     "iopub.execute_input": "2022-01-10T17:36:45.192658Z",
     "iopub.status.busy": "2022-01-10T17:36:45.191945Z",
     "iopub.status.idle": "2022-01-10T17:36:46.286912Z",
     "shell.execute_reply": "2022-01-10T17:36:46.286201Z",
     "shell.execute_reply.started": "2022-01-10T17:21:23.538523Z"
    },
    "papermill": {
     "duration": 1.109736,
     "end_time": "2022-01-10T17:36:46.287059",
     "exception": false,
     "start_time": "2022-01-10T17:36:45.177323",
     "status": "completed"
    },
    "tags": []
   },
   "outputs": [],
   "source": [
    "from sklearn.model_selection import train_test_split\n",
    "\n",
    "# Criando conjuntos de dados de treino e teste:\n",
    "x_treino, x_teste, y_treino, y_teste = train_test_split (x, y, test_size = 0.3) #test_size: quantos % para treino/teste"
   ]
  },
  {
   "cell_type": "code",
   "execution_count": 8,
   "id": "cf64bd4f",
   "metadata": {
    "execution": {
     "iopub.execute_input": "2022-01-10T17:36:46.314262Z",
     "iopub.status.busy": "2022-01-10T17:36:46.313618Z",
     "iopub.status.idle": "2022-01-10T17:36:46.796144Z",
     "shell.execute_reply": "2022-01-10T17:36:46.796682Z",
     "shell.execute_reply.started": "2022-01-10T17:24:54.411988Z"
    },
    "papermill": {
     "duration": 0.497856,
     "end_time": "2022-01-10T17:36:46.796862",
     "exception": false,
     "start_time": "2022-01-10T17:36:46.299006",
     "status": "completed"
    },
    "tags": []
   },
   "outputs": [
    {
     "data": {
      "text/plain": [
       "ExtraTreesClassifier()"
      ]
     },
     "execution_count": 8,
     "metadata": {},
     "output_type": "execute_result"
    }
   ],
   "source": [
    "from sklearn.ensemble import ExtraTreesClassifier\n",
    "# Criação do modelo\n",
    "modelo = ExtraTreesClassifier() # algoritmo que cria várias árvores de decisão\n",
    "modelo.fit(x_treino, y_treino)"
   ]
  },
  {
   "cell_type": "code",
   "execution_count": 9,
   "id": "f053907d",
   "metadata": {
    "execution": {
     "iopub.execute_input": "2022-01-10T17:36:46.829888Z",
     "iopub.status.busy": "2022-01-10T17:36:46.829260Z",
     "iopub.status.idle": "2022-01-10T17:36:46.867829Z",
     "shell.execute_reply": "2022-01-10T17:36:46.868400Z",
     "shell.execute_reply.started": "2022-01-10T17:25:03.202771Z"
    },
    "papermill": {
     "duration": 0.058491,
     "end_time": "2022-01-10T17:36:46.868576",
     "exception": false,
     "start_time": "2022-01-10T17:36:46.810085",
     "status": "completed"
    },
    "tags": []
   },
   "outputs": [],
   "source": [
    "# Imprimindo resultados\n",
    "resultado = modelo.score(x_teste, y_teste) # irá prever de acordo com o modelo que ele 'aprendeu' com os dados de treino, utilizando agora dados não visto(os de teste)"
   ]
  },
  {
   "cell_type": "code",
   "execution_count": 10,
   "id": "e3f093ef",
   "metadata": {
    "execution": {
     "iopub.execute_input": "2022-01-10T17:36:46.899823Z",
     "iopub.status.busy": "2022-01-10T17:36:46.897530Z",
     "iopub.status.idle": "2022-01-10T17:36:46.902692Z",
     "shell.execute_reply": "2022-01-10T17:36:46.902129Z",
     "shell.execute_reply.started": "2022-01-10T17:25:09.946002Z"
    },
    "papermill": {
     "duration": 0.021569,
     "end_time": "2022-01-10T17:36:46.902829",
     "exception": false,
     "start_time": "2022-01-10T17:36:46.881260",
     "status": "completed"
    },
    "tags": []
   },
   "outputs": [
    {
     "name": "stdout",
     "output_type": "stream",
     "text": [
      "Acurácia:  0.9974358974358974\n"
     ]
    }
   ],
   "source": [
    "print(\"Acurácia: \", resultado)"
   ]
  },
  {
   "cell_type": "markdown",
   "id": "6f449e74",
   "metadata": {
    "papermill": {
     "duration": 0.012521,
     "end_time": "2022-01-10T17:36:46.929038",
     "exception": false,
     "start_time": "2022-01-10T17:36:46.916517",
     "status": "completed"
    },
    "tags": []
   },
   "source": [
    "Devemos lembrar que uma acurácia alta nem sempre é indício de sucesso! Muitas vezes ela pode indicar algum tipo de _overfitting_, quando o algoritmo aprende 'demais' o modelo!\n",
    "\n",
    "Quantos mais complexo o dataset, mais improvável uma acurácia acima de 70%. Neste caso específico, o dataset é mais simples e a solução já foi validada."
   ]
  },
  {
   "cell_type": "code",
   "execution_count": 11,
   "id": "681fb5cf",
   "metadata": {
    "execution": {
     "iopub.execute_input": "2022-01-10T17:36:46.960017Z",
     "iopub.status.busy": "2022-01-10T17:36:46.956456Z",
     "iopub.status.idle": "2022-01-10T17:36:46.962666Z",
     "shell.execute_reply": "2022-01-10T17:36:46.963122Z",
     "shell.execute_reply.started": "2022-01-10T17:25:40.400415Z"
    },
    "papermill": {
     "duration": 0.021902,
     "end_time": "2022-01-10T17:36:46.963317",
     "exception": false,
     "start_time": "2022-01-10T17:36:46.941415",
     "status": "completed"
    },
    "tags": []
   },
   "outputs": [
    {
     "data": {
      "text/plain": [
       "1857    1\n",
       "6127    1\n",
       "5284    1\n",
       "4213    1\n",
       "2270    1\n",
       "Name: style, dtype: int64"
      ]
     },
     "execution_count": 11,
     "metadata": {},
     "output_type": "execute_result"
    }
   ],
   "source": [
    "y_teste[205:210] #filtro de 5 amostras aleatórias que o modelo não teve contato"
   ]
  },
  {
   "cell_type": "code",
   "execution_count": 12,
   "id": "1d7fc6dc",
   "metadata": {
    "execution": {
     "iopub.execute_input": "2022-01-10T17:36:46.992645Z",
     "iopub.status.busy": "2022-01-10T17:36:46.991938Z",
     "iopub.status.idle": "2022-01-10T17:36:47.010263Z",
     "shell.execute_reply": "2022-01-10T17:36:47.010677Z",
     "shell.execute_reply.started": "2022-01-10T17:26:20.038150Z"
    },
    "papermill": {
     "duration": 0.034538,
     "end_time": "2022-01-10T17:36:47.010849",
     "exception": false,
     "start_time": "2022-01-10T17:36:46.976311",
     "status": "completed"
    },
    "tags": []
   },
   "outputs": [
    {
     "data": {
      "text/html": [
       "<div>\n",
       "<style scoped>\n",
       "    .dataframe tbody tr th:only-of-type {\n",
       "        vertical-align: middle;\n",
       "    }\n",
       "\n",
       "    .dataframe tbody tr th {\n",
       "        vertical-align: top;\n",
       "    }\n",
       "\n",
       "    .dataframe thead th {\n",
       "        text-align: right;\n",
       "    }\n",
       "</style>\n",
       "<table border=\"1\" class=\"dataframe\">\n",
       "  <thead>\n",
       "    <tr style=\"text-align: right;\">\n",
       "      <th></th>\n",
       "      <th>fixed_acidity</th>\n",
       "      <th>volatile_acidity</th>\n",
       "      <th>citric_acid</th>\n",
       "      <th>residual_sugar</th>\n",
       "      <th>chlorides</th>\n",
       "      <th>free_sulfur_dioxide</th>\n",
       "      <th>total_sulfur_dioxide</th>\n",
       "      <th>density</th>\n",
       "      <th>pH</th>\n",
       "      <th>sulphates</th>\n",
       "      <th>alcohol</th>\n",
       "      <th>quality</th>\n",
       "    </tr>\n",
       "  </thead>\n",
       "  <tbody>\n",
       "    <tr>\n",
       "      <th>1857</th>\n",
       "      <td>6.40</td>\n",
       "      <td>0.23</td>\n",
       "      <td>0.39</td>\n",
       "      <td>1.8</td>\n",
       "      <td>0.032</td>\n",
       "      <td>23.0</td>\n",
       "      <td>118.0</td>\n",
       "      <td>0.99120</td>\n",
       "      <td>3.32</td>\n",
       "      <td>0.50</td>\n",
       "      <td>11.8</td>\n",
       "      <td>6</td>\n",
       "    </tr>\n",
       "    <tr>\n",
       "      <th>6127</th>\n",
       "      <td>6.40</td>\n",
       "      <td>0.37</td>\n",
       "      <td>0.19</td>\n",
       "      <td>3.5</td>\n",
       "      <td>0.068</td>\n",
       "      <td>18.0</td>\n",
       "      <td>101.0</td>\n",
       "      <td>0.99340</td>\n",
       "      <td>3.03</td>\n",
       "      <td>0.38</td>\n",
       "      <td>9.0</td>\n",
       "      <td>6</td>\n",
       "    </tr>\n",
       "    <tr>\n",
       "      <th>5284</th>\n",
       "      <td>6.80</td>\n",
       "      <td>0.15</td>\n",
       "      <td>0.41</td>\n",
       "      <td>12.9</td>\n",
       "      <td>0.044</td>\n",
       "      <td>79.5</td>\n",
       "      <td>183.0</td>\n",
       "      <td>0.99742</td>\n",
       "      <td>3.24</td>\n",
       "      <td>0.78</td>\n",
       "      <td>10.2</td>\n",
       "      <td>6</td>\n",
       "    </tr>\n",
       "    <tr>\n",
       "      <th>4213</th>\n",
       "      <td>6.15</td>\n",
       "      <td>0.21</td>\n",
       "      <td>0.37</td>\n",
       "      <td>3.2</td>\n",
       "      <td>0.021</td>\n",
       "      <td>20.0</td>\n",
       "      <td>80.0</td>\n",
       "      <td>0.99076</td>\n",
       "      <td>3.39</td>\n",
       "      <td>0.47</td>\n",
       "      <td>12.0</td>\n",
       "      <td>5</td>\n",
       "    </tr>\n",
       "    <tr>\n",
       "      <th>2270</th>\n",
       "      <td>6.60</td>\n",
       "      <td>0.28</td>\n",
       "      <td>0.36</td>\n",
       "      <td>1.7</td>\n",
       "      <td>0.038</td>\n",
       "      <td>22.0</td>\n",
       "      <td>101.0</td>\n",
       "      <td>0.99120</td>\n",
       "      <td>3.29</td>\n",
       "      <td>0.57</td>\n",
       "      <td>11.6</td>\n",
       "      <td>6</td>\n",
       "    </tr>\n",
       "  </tbody>\n",
       "</table>\n",
       "</div>"
      ],
      "text/plain": [
       "      fixed_acidity  volatile_acidity  citric_acid  residual_sugar  chlorides  \\\n",
       "1857           6.40              0.23         0.39             1.8      0.032   \n",
       "6127           6.40              0.37         0.19             3.5      0.068   \n",
       "5284           6.80              0.15         0.41            12.9      0.044   \n",
       "4213           6.15              0.21         0.37             3.2      0.021   \n",
       "2270           6.60              0.28         0.36             1.7      0.038   \n",
       "\n",
       "      free_sulfur_dioxide  total_sulfur_dioxide  density    pH  sulphates  \\\n",
       "1857                 23.0                 118.0  0.99120  3.32       0.50   \n",
       "6127                 18.0                 101.0  0.99340  3.03       0.38   \n",
       "5284                 79.5                 183.0  0.99742  3.24       0.78   \n",
       "4213                 20.0                  80.0  0.99076  3.39       0.47   \n",
       "2270                 22.0                 101.0  0.99120  3.29       0.57   \n",
       "\n",
       "      alcohol  quality  \n",
       "1857     11.8        6  \n",
       "6127      9.0        6  \n",
       "5284     10.2        6  \n",
       "4213     12.0        5  \n",
       "2270     11.6        6  "
      ]
     },
     "execution_count": 12,
     "metadata": {},
     "output_type": "execute_result"
    }
   ],
   "source": [
    "x_teste[205:210] # filtro de 5 amostras aleatórias que o modelo não teve contato"
   ]
  },
  {
   "cell_type": "code",
   "execution_count": 13,
   "id": "663e433d",
   "metadata": {
    "execution": {
     "iopub.execute_input": "2022-01-10T17:36:47.042453Z",
     "iopub.status.busy": "2022-01-10T17:36:47.041845Z",
     "iopub.status.idle": "2022-01-10T17:36:47.058284Z",
     "shell.execute_reply": "2022-01-10T17:36:47.058772Z",
     "shell.execute_reply.started": "2022-01-10T17:33:34.977988Z"
    },
    "papermill": {
     "duration": 0.033273,
     "end_time": "2022-01-10T17:36:47.058969",
     "exception": false,
     "start_time": "2022-01-10T17:36:47.025696",
     "status": "completed"
    },
    "tags": []
   },
   "outputs": [],
   "source": [
    "previsoes = modelo.predict(x_teste[205:210]) # criação de variável para checar se o modelo treinado acerta"
   ]
  },
  {
   "cell_type": "code",
   "execution_count": 14,
   "id": "d3e3282f",
   "metadata": {
    "execution": {
     "iopub.execute_input": "2022-01-10T17:36:47.088364Z",
     "iopub.status.busy": "2022-01-10T17:36:47.087750Z",
     "iopub.status.idle": "2022-01-10T17:36:47.092663Z",
     "shell.execute_reply": "2022-01-10T17:36:47.093195Z",
     "shell.execute_reply.started": "2022-01-10T17:33:40.556953Z"
    },
    "papermill": {
     "duration": 0.021215,
     "end_time": "2022-01-10T17:36:47.093381",
     "exception": false,
     "start_time": "2022-01-10T17:36:47.072166",
     "status": "completed"
    },
    "tags": []
   },
   "outputs": [
    {
     "data": {
      "text/plain": [
       "array([1, 1, 1, 1, 1])"
      ]
     },
     "execution_count": 14,
     "metadata": {},
     "output_type": "execute_result"
    }
   ],
   "source": [
    "previsoes"
   ]
  },
  {
   "cell_type": "markdown",
   "id": "928dd870",
   "metadata": {
    "papermill": {
     "duration": 0.012922,
     "end_time": "2022-01-10T17:36:47.119850",
     "exception": false,
     "start_time": "2022-01-10T17:36:47.106928",
     "status": "completed"
    },
    "tags": []
   },
   "source": [
    "O modelo previu corretamente."
   ]
  }
 ],
 "metadata": {
  "kernelspec": {
   "display_name": "Python 3",
   "language": "python",
   "name": "python3"
  },
  "language_info": {
   "codemirror_mode": {
    "name": "ipython",
    "version": 3
   },
   "file_extension": ".py",
   "mimetype": "text/x-python",
   "name": "python",
   "nbconvert_exporter": "python",
   "pygments_lexer": "ipython3",
   "version": "3.7.12"
  },
  "papermill": {
   "default_parameters": {},
   "duration": 11.814196,
   "end_time": "2022-01-10T17:36:47.843649",
   "environment_variables": {},
   "exception": null,
   "input_path": "__notebook__.ipynb",
   "output_path": "__notebook__.ipynb",
   "parameters": {},
   "start_time": "2022-01-10T17:36:36.029453",
   "version": "2.3.3"
  }
 },
 "nbformat": 4,
 "nbformat_minor": 5
}
